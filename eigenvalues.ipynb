{
 "cells": [
  {
   "cell_type": "markdown",
   "id": "86a48569",
   "metadata": {},
   "source": [
    "A matrix A of type 2 × 2 has eigenvalues equal to λ1 = 1, λ2 = 2. Determine the eigenvalues of the matrix\n",
    "\n",
    "[ (4, 3; 3, -4) * A * (4, 3; 3, -4) ]"
   ]
  },
  {
   "cell_type": "code",
   "execution_count": 1,
   "id": "8c19f598",
   "metadata": {},
   "outputs": [],
   "source": [
    "import numpy as np"
   ]
  },
  {
   "cell_type": "code",
   "execution_count": 2,
   "id": "8b4d0ace",
   "metadata": {},
   "outputs": [],
   "source": [
    "lambda1 = 1\n",
    "lambda2 = 2"
   ]
  },
  {
   "cell_type": "code",
   "execution_count": 3,
   "id": "8f4316cb",
   "metadata": {},
   "outputs": [
    {
     "name": "stdout",
     "output_type": "stream",
     "text": [
      "Matrix A: [[1 0]\n",
      " [0 2]]\n"
     ]
    }
   ],
   "source": [
    "A = np.array([[lambda1, 0],\n",
    "              [0, lambda2]])\n",
    "print(\"Matrix A:\", A)"
   ]
  },
  {
   "cell_type": "code",
   "execution_count": 4,
   "id": "4d258170",
   "metadata": {},
   "outputs": [
    {
     "name": "stdout",
     "output_type": "stream",
     "text": [
      "Matrix U: [[ 4.  3.]\n",
      " [ 3. -4.]]\n"
     ]
    }
   ],
   "source": [
    "U = np.array([\n",
    "        [4, 3],\n",
    "        [3, -4]\n",
    "    ], dtype=np.dtype(float))\n",
    "\n",
    "print(\"Matrix U:\", U)"
   ]
  },
  {
   "cell_type": "code",
   "execution_count": 5,
   "id": "799f3c05",
   "metadata": {},
   "outputs": [
    {
     "name": "stdout",
     "output_type": "stream",
     "text": [
      "Matrix Ut: [[ 4.  3.]\n",
      " [ 3. -4.]]\n"
     ]
    }
   ],
   "source": [
    "Ut = U.transpose()\n",
    "\n",
    "print(\"Matrix Ut:\", Ut)\n"
   ]
  },
  {
   "cell_type": "code",
   "execution_count": 6,
   "id": "7116b374",
   "metadata": {},
   "outputs": [
    {
     "name": "stdout",
     "output_type": "stream",
     "text": [
      "Determinant of matrix A: -25.00\n"
     ]
    }
   ],
   "source": [
    "d = np.linalg.det(U)\n",
    "\n",
    "print(f\"Determinant of matrix A: {d:.2f}\")"
   ]
  },
  {
   "cell_type": "markdown",
   "id": "3363f95c",
   "metadata": {},
   "source": [
    "Non-singular, independent matrix\n",
    "\n",
    "\n",
    "**Check if orthogonal:**"
   ]
  },
  {
   "cell_type": "code",
   "execution_count": 7,
   "id": "84151140",
   "metadata": {},
   "outputs": [
    {
     "data": {
      "text/plain": [
       "array([[25.,  0.],\n",
       "       [ 0., 25.]])"
      ]
     },
     "execution_count": 7,
     "metadata": {},
     "output_type": "execute_result"
    }
   ],
   "source": [
    "mult = np.dot(U, Ut)\n",
    "mult"
   ]
  },
  {
   "cell_type": "code",
   "execution_count": 8,
   "id": "15b652ba",
   "metadata": {},
   "outputs": [
    {
     "data": {
      "text/plain": [
       "array([[1., 0.],\n",
       "       [0., 1.]])"
      ]
     },
     "execution_count": 8,
     "metadata": {},
     "output_type": "execute_result"
    }
   ],
   "source": [
    "identity_matrix = np.identity(len(U))\n",
    "identity_matrix"
   ]
  },
  {
   "cell_type": "code",
   "execution_count": 9,
   "id": "217ee3ed",
   "metadata": {},
   "outputs": [
    {
     "name": "stdout",
     "output_type": "stream",
     "text": [
      "False\n"
     ]
    }
   ],
   "source": [
    "print(np.allclose(mult, identity_matrix))"
   ]
  },
  {
   "cell_type": "code",
   "execution_count": 10,
   "id": "20cb5e60",
   "metadata": {},
   "outputs": [],
   "source": [
    "# 2 zpusob (check if matrix is orthogonal)\n",
    "# print(np.allclose(Ut, np.linalg.inv(U)))"
   ]
  },
  {
   "cell_type": "markdown",
   "id": "f3ac5ca9",
   "metadata": {},
   "source": [
    "The matrix U is **non-orthogonal**"
   ]
  },
  {
   "cell_type": "code",
   "execution_count": 11,
   "id": "c93bfae6",
   "metadata": {},
   "outputs": [],
   "source": [
    "result_matrix = np.dot(np.dot(U.T, A), U)"
   ]
  },
  {
   "cell_type": "code",
   "execution_count": 12,
   "id": "8c1b0394",
   "metadata": {},
   "outputs": [],
   "source": [
    "eigenvalues_result = np.linalg.eigvals(result_matrix)"
   ]
  },
  {
   "cell_type": "code",
   "execution_count": 14,
   "id": "d55963f7",
   "metadata": {},
   "outputs": [
    {
     "name": "stdout",
     "output_type": "stream",
     "text": [
      "Matrix (Ut * A * U):\n",
      "[[ 34. -12.]\n",
      " [-12.  41.]]\n",
      "\n",
      "Eigenvalues of the matrix (Ut * A * U):\n",
      "[25. 50.]\n",
      "\n",
      "Eigenvalues of the matrix A:\n",
      "[1 2]\n"
     ]
    }
   ],
   "source": [
    "print(\"Matrix (Ut * A * U):\")\n",
    "print(result_matrix)\n",
    "print(\"\\nEigenvalues of the matrix (Ut * A * U):\")\n",
    "print(eigenvalues_result)\n",
    "print(\"\\nEigenvalues of the matrix A:\")\n",
    "print(np.diag(A))  # Используем np.diag, чтобы получить собственные значения матрицы A\n"
   ]
  },
  {
   "cell_type": "code",
   "execution_count": null,
   "id": "9c989a63",
   "metadata": {},
   "outputs": [],
   "source": []
  }
 ],
 "metadata": {
  "kernelspec": {
   "display_name": "Python 3 (ipykernel)",
   "language": "python",
   "name": "python3"
  },
  "language_info": {
   "codemirror_mode": {
    "name": "ipython",
    "version": 3
   },
   "file_extension": ".py",
   "mimetype": "text/x-python",
   "name": "python",
   "nbconvert_exporter": "python",
   "pygments_lexer": "ipython3",
   "version": "3.11.5"
  }
 },
 "nbformat": 4,
 "nbformat_minor": 5
}
