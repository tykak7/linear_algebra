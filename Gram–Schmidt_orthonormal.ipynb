{
 "cells": [
  {
   "cell_type": "markdown",
   "id": "8485c131",
   "metadata": {},
   "source": [
    "Consider the Hilbert space of functions [-1, 1]^2 → R integrable with a scalar quadratic\n",
    "⟨f|g⟩ = int(-1,1) int(-1,1) f(x,y) g(x, y) dxdy\n",
    "\n",
    "The subspace P is determined by the non-orthogonal basis\n",
    "1, x^2, y^2, x^2 * y^2\n",
    "\n",
    "Orthonormalize this basis with the Gram-Schmidt algorithm in the given order of vectors."
   ]
  },
  {
   "cell_type": "code",
   "execution_count": 1,
   "id": "94bcbb9a",
   "metadata": {},
   "outputs": [],
   "source": [
    "import numpy as np\n",
    "import math\n",
    "import sympy as sp"
   ]
  },
  {
   "cell_type": "code",
   "execution_count": 2,
   "id": "ca52a754",
   "metadata": {},
   "outputs": [],
   "source": [
    "from sympy import symbols, Symbol, ones, eye, simplify\n",
    "from sympy import solve, Matrix\n",
    "from sympy import Eq\n",
    "from sympy import *\n",
    "x,y = symbols('x y') #introduced the symbolic variables x and y"
   ]
  },
  {
   "cell_type": "code",
   "execution_count": 3,
   "id": "b9adb971",
   "metadata": {},
   "outputs": [],
   "source": [
    "v = Matrix ([1, x**2, y**2, x**2 * y**2]) # created vector\n",
    "a = -1 # lower limit of the integral \n",
    "b = 1 # upper limit of the integral"
   ]
  },
  {
   "cell_type": "code",
   "execution_count": 4,
   "id": "aa3f0223",
   "metadata": {},
   "outputs": [
    {
     "data": {
      "text/latex": [
       "$\\displaystyle \\left[\\begin{matrix}1\\\\x^{2}\\\\y^{2}\\\\x^{2} y^{2}\\end{matrix}\\right]$"
      ],
      "text/plain": [
       "Matrix([\n",
       "[        1],\n",
       "[     x**2],\n",
       "[     y**2],\n",
       "[x**2*y**2]])"
      ]
     },
     "execution_count": 4,
     "metadata": {},
     "output_type": "execute_result"
    }
   ],
   "source": [
    "v"
   ]
  },
  {
   "cell_type": "code",
   "execution_count": 5,
   "id": "a1f972e1",
   "metadata": {},
   "outputs": [],
   "source": [
    "v_1 = 1\n",
    "v_2 = x**2\n",
    "v_3 = y**2\n",
    "v_4 = x**2 * y**2"
   ]
  },
  {
   "cell_type": "code",
   "execution_count": 6,
   "id": "93e2728d",
   "metadata": {},
   "outputs": [
    {
     "data": {
      "text/plain": [
       "1"
      ]
     },
     "execution_count": 6,
     "metadata": {},
     "output_type": "execute_result"
    }
   ],
   "source": [
    "u_1 = v_1\n",
    "u_1"
   ]
  },
  {
   "cell_type": "markdown",
   "id": "bfe14952",
   "metadata": {},
   "source": [
    "#### calculation of the orthogonal vector from X^2 => u_2 ####"
   ]
  },
  {
   "cell_type": "code",
   "execution_count": 7,
   "id": "47693304",
   "metadata": {},
   "outputs": [
    {
     "data": {
      "text/latex": [
       "$\\displaystyle \\frac{4}{3}$"
      ],
      "text/plain": [
       "4/3"
      ]
     },
     "execution_count": 7,
     "metadata": {},
     "output_type": "execute_result"
    }
   ],
   "source": [
    "# scalar product\n",
    "scal_21 = integrate(v_2 * u_1, (x, a, b ), (y, a, b))\n",
    "scal_21 \n"
   ]
  },
  {
   "cell_type": "code",
   "execution_count": 8,
   "id": "f1cd2001",
   "metadata": {},
   "outputs": [
    {
     "data": {
      "text/latex": [
       "$\\displaystyle 4$"
      ],
      "text/plain": [
       "4"
      ]
     },
     "execution_count": 8,
     "metadata": {},
     "output_type": "execute_result"
    }
   ],
   "source": [
    "# length\n",
    "length_u_1 = integrate(u_1**2, (x, a, b ), (y, a, b))\n",
    "length_u_1 "
   ]
  },
  {
   "cell_type": "code",
   "execution_count": 9,
   "id": "b222dd23",
   "metadata": {},
   "outputs": [
    {
     "data": {
      "text/latex": [
       "$\\displaystyle x^{2} - \\frac{1}{3}$"
      ],
      "text/plain": [
       "x**2 - 1/3"
      ]
     },
     "execution_count": 9,
     "metadata": {},
     "output_type": "execute_result"
    }
   ],
   "source": [
    "u_2 = v_2 - (scal_21 / length_u_1) *u_1\n",
    "u_2"
   ]
  },
  {
   "cell_type": "markdown",
   "id": "d29ecbf3",
   "metadata": {},
   "source": [
    "#### calculation of the orthogonal vector from Y^2 => u_3 ####"
   ]
  },
  {
   "cell_type": "code",
   "execution_count": 10,
   "id": "bc68d83c",
   "metadata": {},
   "outputs": [],
   "source": [
    "# scalarni součiny\n",
    "scal_31 = integrate(v_3 * u_1, (y, a, b ), (x, a, b))\n",
    "scal_32 = integrate(v_3 * u_2, (y, a, b ), (x, a, b))\n"
   ]
  },
  {
   "cell_type": "code",
   "execution_count": 11,
   "id": "ee9fc813",
   "metadata": {},
   "outputs": [],
   "source": [
    "length_u_2 = integrate(u_2**2, (y, a, b ), (x, a, b))"
   ]
  },
  {
   "cell_type": "code",
   "execution_count": 12,
   "id": "b0ccb754",
   "metadata": {
    "scrolled": true
   },
   "outputs": [
    {
     "data": {
      "text/latex": [
       "$\\displaystyle y^{2} - \\frac{1}{3}$"
      ],
      "text/plain": [
       "y**2 - 1/3"
      ]
     },
     "execution_count": 12,
     "metadata": {},
     "output_type": "execute_result"
    }
   ],
   "source": [
    "u_3 = v_3 - (scal_31 / length_u_1) * u_1 - (scal_32 / length_u_2) * u_2\n",
    "u_3"
   ]
  },
  {
   "cell_type": "markdown",
   "id": "09c8689e",
   "metadata": {},
   "source": [
    "#### calculation of the orthogonal vector from X^2 * Y^2 => u_4 ####"
   ]
  },
  {
   "cell_type": "code",
   "execution_count": 13,
   "id": "b316ef89",
   "metadata": {},
   "outputs": [],
   "source": [
    "scal_41 = integrate(v_4 * u_1, (y, a, b ), (x, a, b))\n",
    "scal_42 = integrate(v_4 * u_2, (y, a, b ), (x, a, b))\n",
    "scal_43 = integrate(v_4 * u_3, (y, a, b ), (x, a, b))"
   ]
  },
  {
   "cell_type": "code",
   "execution_count": 14,
   "id": "c484840a",
   "metadata": {},
   "outputs": [],
   "source": [
    "length_u_3 = integrate(u_3**2, (y, a, b ), (x, a, b))\n"
   ]
  },
  {
   "cell_type": "code",
   "execution_count": 15,
   "id": "a9d8b2b7",
   "metadata": {},
   "outputs": [
    {
     "data": {
      "text/latex": [
       "$\\displaystyle x^{2} y^{2} - \\frac{x^{2}}{3} - \\frac{y^{2}}{3} + \\frac{1}{9}$"
      ],
      "text/plain": [
       "x**2*y**2 - x**2/3 - y**2/3 + 1/9"
      ]
     },
     "execution_count": 15,
     "metadata": {},
     "output_type": "execute_result"
    }
   ],
   "source": [
    "u_4 = v_4 - (scal_41 / length_u_1) * u_1 - (scal_42 / length_u_2) * u_2 - (scal_43 / length_u_3) * u_3\n",
    "u_4"
   ]
  },
  {
   "cell_type": "markdown",
   "id": "dbdf974b",
   "metadata": {},
   "source": [
    "### Orthogonal bases ###"
   ]
  },
  {
   "cell_type": "code",
   "execution_count": 16,
   "id": "8229f688",
   "metadata": {},
   "outputs": [
    {
     "data": {
      "text/latex": [
       "$\\displaystyle \\left[\\begin{matrix}1\\\\x^{2} - \\frac{1}{3}\\\\y^{2} - \\frac{1}{3}\\\\x^{2} y^{2} - \\frac{x^{2}}{3} - \\frac{y^{2}}{3} + \\frac{1}{9}\\end{matrix}\\right]$"
      ],
      "text/plain": [
       "Matrix([\n",
       "[                                1],\n",
       "[                       x**2 - 1/3],\n",
       "[                       y**2 - 1/3],\n",
       "[x**2*y**2 - x**2/3 - y**2/3 + 1/9]])"
      ]
     },
     "execution_count": 16,
     "metadata": {},
     "output_type": "execute_result"
    }
   ],
   "source": [
    "ortogonalni = Matrix ([u_1, u_2, u_3, u_4])\n",
    "ortogonalni\n"
   ]
  },
  {
   "cell_type": "markdown",
   "id": "95cac903",
   "metadata": {},
   "source": [
    "### Orthonormal bases  ###"
   ]
  },
  {
   "cell_type": "code",
   "execution_count": 17,
   "id": "167c9aaa",
   "metadata": {},
   "outputs": [],
   "source": [
    "length_u_4 = integrate(u_4**2, (y, a, b ), (x, a, b))"
   ]
  },
  {
   "cell_type": "code",
   "execution_count": 18,
   "id": "65d20245",
   "metadata": {},
   "outputs": [],
   "source": [
    "# normolizace\n",
    "u_1_n = simplify(u_1/sqrt(length_u_1))\n",
    "u_2_n = simplify(u_2/sqrt(length_u_2))\n",
    "u_3_n = simplify(u_3/sqrt(length_u_3))\n",
    "u_4_n = simplify(u_4/sqrt(length_u_4))"
   ]
  },
  {
   "cell_type": "code",
   "execution_count": 19,
   "id": "35e9c7a1",
   "metadata": {},
   "outputs": [
    {
     "data": {
      "text/latex": [
       "$\\displaystyle \\left[\\begin{matrix}\\frac{1}{2}\\\\\\frac{\\sqrt{5} \\cdot \\left(3 x^{2} - 1\\right)}{4}\\\\\\frac{\\sqrt{5} \\cdot \\left(3 y^{2} - 1\\right)}{4}\\\\\\frac{45 x^{2} y^{2}}{8} - \\frac{15 x^{2}}{8} - \\frac{15 y^{2}}{8} + \\frac{5}{8}\\end{matrix}\\right]$"
      ],
      "text/plain": [
       "Matrix([\n",
       "[                                         1/2],\n",
       "[                      sqrt(5)*(3*x**2 - 1)/4],\n",
       "[                      sqrt(5)*(3*y**2 - 1)/4],\n",
       "[45*x**2*y**2/8 - 15*x**2/8 - 15*y**2/8 + 5/8]])"
      ]
     },
     "execution_count": 19,
     "metadata": {},
     "output_type": "execute_result"
    }
   ],
   "source": [
    "ortonormalni = Matrix ([u_1_n, u_2_n, u_3_n, u_4_n])\n",
    "ortonormalni"
   ]
  },
  {
   "cell_type": "markdown",
   "id": "627db6bb",
   "metadata": {},
   "source": [
    "### Test ###\n",
    "- the scalar product u_i - u_j should be 1 for i = j and 0 otherwise"
   ]
  },
  {
   "cell_type": "code",
   "execution_count": 20,
   "id": "84b854f5",
   "metadata": {},
   "outputs": [
    {
     "data": {
      "text/latex": [
       "$\\displaystyle 0$"
      ],
      "text/plain": [
       "0"
      ]
     },
     "execution_count": 20,
     "metadata": {},
     "output_type": "execute_result"
    }
   ],
   "source": [
    "scal_23_zk = integrate(u_2_n * u_3_n, (y, a, b ), (x, a, b))\n",
    "scal_23_zk"
   ]
  },
  {
   "cell_type": "code",
   "execution_count": 21,
   "id": "eee8bbd8",
   "metadata": {},
   "outputs": [
    {
     "data": {
      "text/latex": [
       "$\\displaystyle 1$"
      ],
      "text/plain": [
       "1"
      ]
     },
     "execution_count": 21,
     "metadata": {},
     "output_type": "execute_result"
    }
   ],
   "source": [
    "scal_33_zk = integrate(u_3_n * u_3_n, (y, a, b ), (x, a, b))\n",
    "scal_33_zk"
   ]
  },
  {
   "cell_type": "code",
   "execution_count": 22,
   "id": "ebd7d354",
   "metadata": {},
   "outputs": [],
   "source": [
    "w = symbols('w')"
   ]
  },
  {
   "cell_type": "code",
   "execution_count": 23,
   "id": "6bd5e48d",
   "metadata": {},
   "outputs": [],
   "source": [
    "V = 0"
   ]
  },
  {
   "cell_type": "code",
   "execution_count": 24,
   "id": "3a17f16d",
   "metadata": {},
   "outputs": [],
   "source": [
    "R = 1.1"
   ]
  },
  {
   "cell_type": "code",
   "execution_count": 25,
   "id": "b9d97ee1",
   "metadata": {},
   "outputs": [],
   "source": [
    "DO = limit(V,w,R)"
   ]
  },
  {
   "cell_type": "code",
   "execution_count": 26,
   "id": "3b3228ac",
   "metadata": {},
   "outputs": [
    {
     "data": {
      "text/latex": [
       "$\\displaystyle 0$"
      ],
      "text/plain": [
       "0"
      ]
     },
     "execution_count": 26,
     "metadata": {},
     "output_type": "execute_result"
    }
   ],
   "source": [
    "DO"
   ]
  },
  {
   "cell_type": "code",
   "execution_count": 27,
   "id": "a55cb444",
   "metadata": {},
   "outputs": [],
   "source": [
    "V = 6.2"
   ]
  },
  {
   "cell_type": "code",
   "execution_count": 28,
   "id": "ea33ff89",
   "metadata": {},
   "outputs": [],
   "source": [
    "R = 1,3"
   ]
  },
  {
   "cell_type": "code",
   "execution_count": 29,
   "id": "b5fffe54",
   "metadata": {},
   "outputs": [
    {
     "data": {
      "text/latex": [
       "$\\displaystyle 6.2$"
      ],
      "text/plain": [
       "6.20000000000000"
      ]
     },
     "execution_count": 29,
     "metadata": {},
     "output_type": "execute_result"
    }
   ],
   "source": [
    "DO = limit(V,w,R)\n",
    "DO"
   ]
  },
  {
   "cell_type": "code",
   "execution_count": null,
   "id": "f40e1018",
   "metadata": {},
   "outputs": [],
   "source": []
  }
 ],
 "metadata": {
  "kernelspec": {
   "display_name": "Python 3 (ipykernel)",
   "language": "python",
   "name": "python3"
  },
  "language_info": {
   "codemirror_mode": {
    "name": "ipython",
    "version": 3
   },
   "file_extension": ".py",
   "mimetype": "text/x-python",
   "name": "python",
   "nbconvert_exporter": "python",
   "pygments_lexer": "ipython3",
   "version": "3.11.5"
  }
 },
 "nbformat": 4,
 "nbformat_minor": 5
}
