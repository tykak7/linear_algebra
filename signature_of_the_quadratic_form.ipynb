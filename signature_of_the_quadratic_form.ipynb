{
 "cells": [
  {
   "cell_type": "markdown",
   "id": "b90834f6",
   "metadata": {},
   "source": [
    "Determine the signature of the quadratic form of the function **f**\n",
    "\n",
    "f(x,y,z) = 2*(x - y)^2 + (y - z)^2 - 2*x*z"
   ]
  },
  {
   "cell_type": "code",
   "execution_count": 3,
   "id": "5c9d65f7",
   "metadata": {},
   "outputs": [],
   "source": [
    "import numpy as np\n",
    "from sympy import symbols, Symbol, ones, eye, simplify"
   ]
  },
  {
   "cell_type": "code",
   "execution_count": 4,
   "id": "7c87d685",
   "metadata": {},
   "outputs": [],
   "source": [
    "x,y,z = symbols('x y z')"
   ]
  },
  {
   "cell_type": "code",
   "execution_count": 5,
   "id": "5f749c30",
   "metadata": {},
   "outputs": [
    {
     "data": {
      "text/latex": [
       "$\\displaystyle - 2 x z + 2 \\left(x - y\\right)^{2} + \\left(y - z\\right)^{2}$"
      ],
      "text/plain": [
       "-2*x*z + 2*(x - y)**2 + (y - z)**2"
      ]
     },
     "execution_count": 5,
     "metadata": {},
     "output_type": "execute_result"
    }
   ],
   "source": [
    "f = 2*(x - y)**2 + (y - z)**2 - 2*x*z\n",
    "f"
   ]
  },
  {
   "cell_type": "code",
   "execution_count": 6,
   "id": "9a6b2f6b",
   "metadata": {},
   "outputs": [
    {
     "data": {
      "text/latex": [
       "$\\displaystyle 2 x^{2} - 4 x y - 2 x z + 3 y^{2} - 2 y z + z^{2}$"
      ],
      "text/plain": [
       "2*x**2 - 4*x*y - 2*x*z + 3*y**2 - 2*y*z + z**2"
      ]
     },
     "execution_count": 6,
     "metadata": {},
     "output_type": "execute_result"
    }
   ],
   "source": [
    "fun = 2*x**2 + 3*y**2 + z**2 - 4*x*y - 2*y*z - 2*x*z\n",
    "fun"
   ]
  },
  {
   "cell_type": "code",
   "execution_count": 7,
   "id": "dca3387d",
   "metadata": {},
   "outputs": [],
   "source": [
    "a = 2\n",
    "e = 3\n",
    "k = 1\n",
    "b_d = -4\n",
    "f_h = -2\n",
    "c_g = -2"
   ]
  },
  {
   "cell_type": "code",
   "execution_count": 8,
   "id": "ea235c05",
   "metadata": {},
   "outputs": [
    {
     "name": "stdout",
     "output_type": "stream",
     "text": [
      "Matrix A:\n",
      "[[ 2. -2. -1.]\n",
      " [-2.  3. -1.]\n",
      " [-1. -1.  1.]]\n"
     ]
    }
   ],
   "source": [
    "A = np.array([\n",
    "        [a, b_d/2, c_g/2],\n",
    "        [b_d/2, e, f_h/2],\n",
    "        [c_g/2, f_h/2, k]\n",
    "    ], dtype=np.dtype(float))\n",
    "\n",
    "\n",
    "print(\"Matrix A:\")\n",
    "print(A)"
   ]
  },
  {
   "cell_type": "code",
   "execution_count": 9,
   "id": "7f8206f5",
   "metadata": {},
   "outputs": [
    {
     "name": "stdout",
     "output_type": "stream",
     "text": [
      "Eigenvalues [-0.71447874  4.57120142  2.14327732]\n"
     ]
    }
   ],
   "source": [
    "eigenvalues, eigenvectors = np.linalg.eig(A)\n",
    "print(\"Eigenvalues\", eigenvalues)"
   ]
  },
  {
   "cell_type": "markdown",
   "id": "602979e4",
   "metadata": {},
   "source": [
    "### **The end result:** ### "
   ]
  },
  {
   "cell_type": "markdown",
   "id": "d73d2bf5",
   "metadata": {},
   "source": [
    "number of positive eigenvalues, number of negative eigenvalues, number of zero eigenvalues"
   ]
  },
  {
   "cell_type": "code",
   "execution_count": 12,
   "id": "e1bcd7b7",
   "metadata": {},
   "outputs": [
    {
     "name": "stdout",
     "output_type": "stream",
     "text": [
      "2 1 0\n"
     ]
    }
   ],
   "source": [
    "num_positive = np.sum(eigenvalues > 0)\n",
    "num_negative = np.sum(eigenvalues < 0)\n",
    "num_zero = np.sum(eigenvalues == 0)\n",
    "\n",
    "print(num_positive, num_negative, num_zero)"
   ]
  }
 ],
 "metadata": {
  "kernelspec": {
   "display_name": "Python 3 (ipykernel)",
   "language": "python",
   "name": "python3"
  },
  "language_info": {
   "codemirror_mode": {
    "name": "ipython",
    "version": 3
   },
   "file_extension": ".py",
   "mimetype": "text/x-python",
   "name": "python",
   "nbconvert_exporter": "python",
   "pygments_lexer": "ipython3",
   "version": "3.11.5"
  }
 },
 "nbformat": 4,
 "nbformat_minor": 5
}
