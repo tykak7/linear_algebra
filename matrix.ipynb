{
 "cells": [
  {
   "cell_type": "markdown",
   "id": "fc9cce80",
   "metadata": {},
   "source": [
    "Consider the plane R^2 the line given by the equation\n",
    "\n",
    "ax + by = 0\n",
    "- (a) Write the matrix M of the mirror around this line.\n",
    "- (b) Calculate the determinant of the matrix M.\n",
    "- (c) Calculate the matrix M2."
   ]
  },
  {
   "cell_type": "code",
   "execution_count": 1,
   "id": "1aca50d0",
   "metadata": {},
   "outputs": [],
   "source": [
    "import numpy as np\n",
    "import math"
   ]
  },
  {
   "cell_type": "code",
   "execution_count": 2,
   "id": "0ad60eb6",
   "metadata": {},
   "outputs": [],
   "source": [
    "from sympy import symbols, Symbol, ones, eye, simplify"
   ]
  },
  {
   "cell_type": "code",
   "execution_count": 3,
   "id": "938aefac",
   "metadata": {},
   "outputs": [],
   "source": [
    "a,b = symbols('a b') # introduced the symbolic variables a b"
   ]
  },
  {
   "cell_type": "code",
   "execution_count": 4,
   "id": "a69ca6fa",
   "metadata": {},
   "outputs": [],
   "source": [
    "a = a\n",
    "b = b"
   ]
  },
  {
   "cell_type": "code",
   "execution_count": 5,
   "id": "34667fcf",
   "metadata": {},
   "outputs": [],
   "source": [
    "from sympy import solve, Matrix\n",
    "from sympy import Eq"
   ]
  },
  {
   "cell_type": "code",
   "execution_count": 6,
   "id": "f531578a",
   "metadata": {},
   "outputs": [],
   "source": [
    "v = Matrix ([a,b]) "
   ]
  },
  {
   "cell_type": "code",
   "execution_count": 7,
   "id": "d9e6a9fc",
   "metadata": {},
   "outputs": [
    {
     "data": {
      "text/latex": [
       "$\\displaystyle \\left[\\begin{matrix}a\\\\b\\end{matrix}\\right]$"
      ],
      "text/plain": [
       "Matrix([\n",
       "[a],\n",
       "[b]])"
      ]
     },
     "execution_count": 7,
     "metadata": {},
     "output_type": "execute_result"
    }
   ],
   "source": [
    "v"
   ]
  },
  {
   "cell_type": "code",
   "execution_count": 8,
   "id": "4d514723",
   "metadata": {},
   "outputs": [],
   "source": [
    "v_norm = v / v.norm() # vector normalisation\n"
   ]
  },
  {
   "cell_type": "code",
   "execution_count": 9,
   "id": "378b8a22",
   "metadata": {},
   "outputs": [
    {
     "data": {
      "text/latex": [
       "$\\displaystyle \\left[\\begin{matrix}\\frac{a}{\\sqrt{\\left|{a}\\right|^{2} + \\left|{b}\\right|^{2}}}\\\\\\frac{b}{\\sqrt{\\left|{a}\\right|^{2} + \\left|{b}\\right|^{2}}}\\end{matrix}\\right]$"
      ],
      "text/plain": [
       "Matrix([\n",
       "[a/sqrt(Abs(a)**2 + Abs(b)**2)],\n",
       "[b/sqrt(Abs(a)**2 + Abs(b)**2)]])"
      ]
     },
     "execution_count": 9,
     "metadata": {},
     "output_type": "execute_result"
    }
   ],
   "source": [
    "v_norm"
   ]
  },
  {
   "cell_type": "code",
   "execution_count": 10,
   "id": "c63505f1",
   "metadata": {},
   "outputs": [
    {
     "data": {
      "text/latex": [
       "$\\displaystyle \\left[\\begin{matrix}- \\frac{2 a^{2}}{\\left|{a}\\right|^{2} + \\left|{b}\\right|^{2}} + 1 & - \\frac{2 a b}{\\left|{a}\\right|^{2} + \\left|{b}\\right|^{2}}\\\\- \\frac{2 a b}{\\left|{a}\\right|^{2} + \\left|{b}\\right|^{2}} & - \\frac{2 b^{2}}{\\left|{a}\\right|^{2} + \\left|{b}\\right|^{2}} + 1\\end{matrix}\\right]$"
      ],
      "text/plain": [
       "Matrix([\n",
       "[-2*a**2/(Abs(a)**2 + Abs(b)**2) + 1,      -2*a*b/(Abs(a)**2 + Abs(b)**2)],\n",
       "[     -2*a*b/(Abs(a)**2 + Abs(b)**2), -2*b**2/(Abs(a)**2 + Abs(b)**2) + 1]])"
      ]
     },
     "execution_count": 10,
     "metadata": {},
     "output_type": "execute_result"
    }
   ],
   "source": [
    "mat_zrc = eye(2) - 2*(v_norm * v_norm.T)  # mirror matrix of norm vector\n",
    "mat_zrc"
   ]
  },
  {
   "cell_type": "code",
   "execution_count": 11,
   "id": "17c9e67b",
   "metadata": {},
   "outputs": [
    {
     "data": {
      "text/latex": [
       "$\\displaystyle \\frac{- 2 a^{2} - 2 b^{2} + \\left|{a}\\right|^{2} + \\left|{b}\\right|^{2}}{\\left|{a}\\right|^{2} + \\left|{b}\\right|^{2}}$"
      ],
      "text/plain": [
       "(-2*a**2 - 2*b**2 + Abs(a)**2 + Abs(b)**2)/(Abs(a)**2 + Abs(b)**2)"
      ]
     },
     "execution_count": 11,
     "metadata": {},
     "output_type": "execute_result"
    }
   ],
   "source": [
    "deter = mat_zrc.det() # determinant of the mirror matrix\n",
    "deter"
   ]
  },
  {
   "cell_type": "code",
   "execution_count": 12,
   "id": "28a4e280",
   "metadata": {},
   "outputs": [
    {
     "data": {
      "text/latex": [
       "$\\displaystyle \\left[\\begin{matrix}\\frac{4 a^{4} + 4 a^{2} b^{2} - 4 a^{2} \\left|{a}\\right|^{2} - 4 a^{2} \\left|{b}\\right|^{2} + \\left|{a}\\right|^{4} + 2 \\left|{a}\\right|^{2} \\left|{b}\\right|^{2} + \\left|{b}\\right|^{4}}{\\left|{a}\\right|^{4} + 2 \\left|{a}\\right|^{2} \\left|{b}\\right|^{2} + \\left|{b}\\right|^{4}} & \\frac{4 a^{3} b + 4 a b^{3} - 4 a b \\left|{a}\\right|^{2} - 4 a b \\left|{b}\\right|^{2}}{\\left|{a}\\right|^{4} + 2 \\left|{a}\\right|^{2} \\left|{b}\\right|^{2} + \\left|{b}\\right|^{4}}\\\\\\frac{4 a^{3} b + 4 a b^{3} - 4 a b \\left|{a}\\right|^{2} - 4 a b \\left|{b}\\right|^{2}}{\\left|{a}\\right|^{4} + 2 \\left|{a}\\right|^{2} \\left|{b}\\right|^{2} + \\left|{b}\\right|^{4}} & \\frac{4 a^{2} b^{2} + 4 b^{4} - 4 b^{2} \\left|{a}\\right|^{2} - 4 b^{2} \\left|{b}\\right|^{2} + \\left|{a}\\right|^{4} + 2 \\left|{a}\\right|^{2} \\left|{b}\\right|^{2} + \\left|{b}\\right|^{4}}{\\left|{a}\\right|^{4} + 2 \\left|{a}\\right|^{2} \\left|{b}\\right|^{2} + \\left|{b}\\right|^{4}}\\end{matrix}\\right]$"
      ],
      "text/plain": [
       "Matrix([\n",
       "[(4*a**4 + 4*a**2*b**2 - 4*a**2*Abs(a)**2 - 4*a**2*Abs(b)**2 + Abs(a)**4 + 2*Abs(a)**2*Abs(b)**2 + Abs(b)**4)/(Abs(a)**4 + 2*Abs(a)**2*Abs(b)**2 + Abs(b)**4),                                                    (4*a**3*b + 4*a*b**3 - 4*a*b*Abs(a)**2 - 4*a*b*Abs(b)**2)/(Abs(a)**4 + 2*Abs(a)**2*Abs(b)**2 + Abs(b)**4)],\n",
       "[                                                   (4*a**3*b + 4*a*b**3 - 4*a*b*Abs(a)**2 - 4*a*b*Abs(b)**2)/(Abs(a)**4 + 2*Abs(a)**2*Abs(b)**2 + Abs(b)**4), (4*a**2*b**2 + 4*b**4 - 4*b**2*Abs(a)**2 - 4*b**2*Abs(b)**2 + Abs(a)**4 + 2*Abs(a)**2*Abs(b)**2 + Abs(b)**4)/(Abs(a)**4 + 2*Abs(a)**2*Abs(b)**2 + Abs(b)**4)]])"
      ]
     },
     "execution_count": 12,
     "metadata": {},
     "output_type": "execute_result"
    }
   ],
   "source": [
    "mat_zrc_2 = mat_zrc **2\n",
    "mat_zrc_2"
   ]
  },
  {
   "cell_type": "code",
   "execution_count": null,
   "id": "3a2dfe63",
   "metadata": {},
   "outputs": [],
   "source": []
  },
  {
   "cell_type": "code",
   "execution_count": null,
   "id": "6d1a8486",
   "metadata": {},
   "outputs": [],
   "source": []
  },
  {
   "cell_type": "code",
   "execution_count": 13,
   "id": "0c2ccd4a",
   "metadata": {},
   "outputs": [
    {
     "data": {
      "text/latex": [
       "$\\displaystyle \\frac{4 a^{4} + 8 a^{2} b^{2} - 4 a^{2} \\left|{a}\\right|^{2} - 4 a^{2} \\left|{b}\\right|^{2} + 4 b^{4} - 4 b^{2} \\left|{a}\\right|^{2} - 4 b^{2} \\left|{b}\\right|^{2} + \\left|{a}\\right|^{4} + 2 \\left|{a}\\right|^{2} \\left|{b}\\right|^{2} + \\left|{b}\\right|^{4}}{\\left|{a}\\right|^{4} + 2 \\left|{a}\\right|^{2} \\left|{b}\\right|^{2} + \\left|{b}\\right|^{4}}$"
      ],
      "text/plain": [
       "(4*a**4 + 8*a**2*b**2 - 4*a**2*Abs(a)**2 - 4*a**2*Abs(b)**2 + 4*b**4 - 4*b**2*Abs(a)**2 - 4*b**2*Abs(b)**2 + Abs(a)**4 + 2*Abs(a)**2*Abs(b)**2 + Abs(b)**4)/(Abs(a)**4 + 2*Abs(a)**2*Abs(b)**2 + Abs(b)**4)"
      ]
     },
     "execution_count": 13,
     "metadata": {},
     "output_type": "execute_result"
    }
   ],
   "source": [
    "deter = mat_zrc_2.det() # determinant of the mirror matrix\n",
    "deter"
   ]
  },
  {
   "cell_type": "code",
   "execution_count": 14,
   "id": "15f95521",
   "metadata": {},
   "outputs": [
    {
     "data": {
      "text/latex": [
       "$\\displaystyle 1$"
      ],
      "text/plain": [
       "1"
      ]
     },
     "execution_count": 14,
     "metadata": {},
     "output_type": "execute_result"
    }
   ],
   "source": [
    "deter.subs([(a, 4), (b, 550)]) # test fitting of arbitrary coefficients (determinants)\n"
   ]
  }
 ],
 "metadata": {
  "kernelspec": {
   "display_name": "Python 3 (ipykernel)",
   "language": "python",
   "name": "python3"
  },
  "language_info": {
   "codemirror_mode": {
    "name": "ipython",
    "version": 3
   },
   "file_extension": ".py",
   "mimetype": "text/x-python",
   "name": "python",
   "nbconvert_exporter": "python",
   "pygments_lexer": "ipython3",
   "version": "3.11.5"
  }
 },
 "nbformat": 4,
 "nbformat_minor": 5
}
