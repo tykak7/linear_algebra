{
 "cells": [
  {
   "cell_type": "markdown",
   "id": "6f070637",
   "metadata": {},
   "source": [
    "Functions **f** has an extremum at (x, y) = (2, 3).\n",
    "\n",
    "a) Verify this statement.\n",
    "\n",
    "b) Determine the type of this extremum."
   ]
  },
  {
   "cell_type": "code",
   "execution_count": 22,
   "id": "7803858a",
   "metadata": {},
   "outputs": [],
   "source": [
    "import numpy as np\n",
    "from sympy import symbols, Symbol, ones, eye, simplify\n",
    "from sympy import symbols, diff, solve, hessian, Matrix\n",
    "import sympy as sp"
   ]
  },
  {
   "cell_type": "code",
   "execution_count": 23,
   "id": "ed64e211",
   "metadata": {},
   "outputs": [],
   "source": [
    "x,y = symbols('x y')"
   ]
  },
  {
   "cell_type": "code",
   "execution_count": 24,
   "id": "3d010e86",
   "metadata": {
    "scrolled": true
   },
   "outputs": [
    {
     "data": {
      "text/latex": [
       "$\\displaystyle - x^{3} y + x^{3} + x^{2} y + x^{2} + x y^{3} - x y^{2} - 5 x y + 5 x - y^{3} - y^{2} + 5 y$"
      ],
      "text/plain": [
       "-x**3*y + x**3 + x**2*y + x**2 + x*y**3 - x*y**2 - 5*x*y + 5*x - y**3 - y**2 + 5*y"
      ]
     },
     "execution_count": 24,
     "metadata": {},
     "output_type": "execute_result"
    }
   ],
   "source": [
    "f = -x**3 * y + x*y**3 + x**3 + x**2*y - x*y**2 - y**3 + x**2 - 5*x*y - y**2 + 5*x + 5*y\n",
    "f"
   ]
  },
  {
   "cell_type": "markdown",
   "id": "79112e6c",
   "metadata": {},
   "source": [
    "Calculate Partial Derivatives"
   ]
  },
  {
   "cell_type": "code",
   "execution_count": 25,
   "id": "93fb1485",
   "metadata": {},
   "outputs": [],
   "source": [
    "df_dx = diff(f, x)\n",
    "df_dy = diff(f, y)"
   ]
  },
  {
   "cell_type": "code",
   "execution_count": 26,
   "id": "a5e77fba",
   "metadata": {},
   "outputs": [
    {
     "data": {
      "text/latex": [
       "$\\displaystyle - 3 x^{2} y + 3 x^{2} + 2 x y + 2 x + y^{3} - y^{2} - 5 y + 5$"
      ],
      "text/plain": [
       "-3*x**2*y + 3*x**2 + 2*x*y + 2*x + y**3 - y**2 - 5*y + 5"
      ]
     },
     "execution_count": 26,
     "metadata": {},
     "output_type": "execute_result"
    }
   ],
   "source": [
    "df_dx"
   ]
  },
  {
   "cell_type": "code",
   "execution_count": 27,
   "id": "9719e0a5",
   "metadata": {},
   "outputs": [
    {
     "data": {
      "text/latex": [
       "$\\displaystyle - x^{3} + x^{2} + 3 x y^{2} - 2 x y - 5 x - 3 y^{2} - 2 y + 5$"
      ],
      "text/plain": [
       "-x**3 + x**2 + 3*x*y**2 - 2*x*y - 5*x - 3*y**2 - 2*y + 5"
      ]
     },
     "execution_count": 27,
     "metadata": {},
     "output_type": "execute_result"
    }
   ],
   "source": [
    "df_dy"
   ]
  },
  {
   "cell_type": "markdown",
   "id": "f8135d68",
   "metadata": {},
   "source": [
    "Evaluate the gradient at the given point (2, 3)"
   ]
  },
  {
   "cell_type": "code",
   "execution_count": 28,
   "id": "30ac3388",
   "metadata": {},
   "outputs": [],
   "source": [
    "gradient_at_point = {\n",
    "    x: 2,\n",
    "    y: 3\n",
    "}"
   ]
  },
  {
   "cell_type": "code",
   "execution_count": 29,
   "id": "a64f9e41",
   "metadata": {},
   "outputs": [],
   "source": [
    "gradient_values = {\n",
    "    df_dx: df_dx.subs(gradient_at_point),\n",
    "    df_dy: df_dy.subs(gradient_at_point)\n",
    "}"
   ]
  },
  {
   "cell_type": "markdown",
   "id": "9b818236",
   "metadata": {},
   "source": [
    "Check if the gradient is zero at the given point"
   ]
  },
  {
   "cell_type": "code",
   "execution_count": 30,
   "id": "28cb0feb",
   "metadata": {},
   "outputs": [
    {
     "data": {
      "text/plain": [
       "True"
      ]
     },
     "execution_count": 30,
     "metadata": {},
     "output_type": "execute_result"
    }
   ],
   "source": [
    "is_extremum = all(value == 0 for value in gradient_values.values())\n",
    "is_extremum"
   ]
  },
  {
   "cell_type": "markdown",
   "id": "763b2f34",
   "metadata": {},
   "source": [
    "Determine the type of extremum using the Hessian matrix"
   ]
  },
  {
   "cell_type": "code",
   "execution_count": 31,
   "id": "1fa7699a",
   "metadata": {},
   "outputs": [],
   "source": [
    "hessian_matrix = np.array([\n",
    "    [f.diff(x, 2).subs(gradient_at_point), f.diff(x, y).subs(gradient_at_point)],\n",
    "    [f.diff(y, x).subs(gradient_at_point), f.diff(y, 2).subs(gradient_at_point)]\n",
    "], dtype=np.dtype(float))"
   ]
  },
  {
   "cell_type": "code",
   "execution_count": 32,
   "id": "0c8285a2",
   "metadata": {},
   "outputs": [
    {
     "data": {
      "text/plain": [
       "array([[-16.,   8.],\n",
       "       [  8.,  12.]])"
      ]
     },
     "execution_count": 32,
     "metadata": {},
     "output_type": "execute_result"
    }
   ],
   "source": [
    "hessian_matrix"
   ]
  },
  {
   "cell_type": "markdown",
   "id": "35161042",
   "metadata": {},
   "source": [
    "Calculate the determinant and trace of the Hessian matrix"
   ]
  },
  {
   "cell_type": "code",
   "execution_count": 33,
   "id": "8f42efc3",
   "metadata": {},
   "outputs": [
    {
     "data": {
      "text/plain": [
       "-255.99999999999994"
      ]
     },
     "execution_count": 33,
     "metadata": {},
     "output_type": "execute_result"
    }
   ],
   "source": [
    "determinant = np.linalg.det(hessian_matrix)\n",
    "determinant"
   ]
  },
  {
   "cell_type": "code",
   "execution_count": 34,
   "id": "09a48258",
   "metadata": {},
   "outputs": [
    {
     "data": {
      "text/plain": [
       "-4.0"
      ]
     },
     "execution_count": 34,
     "metadata": {},
     "output_type": "execute_result"
    }
   ],
   "source": [
    "trace = np.trace(hessian_matrix)\n",
    "trace"
   ]
  },
  {
   "cell_type": "code",
   "execution_count": 21,
   "id": "1b1f560f",
   "metadata": {},
   "outputs": [
    {
     "name": "stdout",
     "output_type": "stream",
     "text": [
      "The given function has an extremum at the point (2, 3): True\n",
      "The type of extremum is: Saddle Point\n"
     ]
    }
   ],
   "source": [
    "if determinant > 0 and trace > 0:\n",
    "    extremum_type = \"Minimum\"\n",
    "elif determinant > 0 and trace < 0:\n",
    "    extremum_type = \"Maximum\"\n",
    "else:\n",
    "    extremum_type = \"Saddle Point\"\n",
    "\n",
    "# Print the results\n",
    "print(f\"The given function has an extremum at the point (2, 3): {is_extremum}\")\n",
    "print(f\"The type of extremum is: {extremum_type}\")"
   ]
  }
 ],
 "metadata": {
  "kernelspec": {
   "display_name": "Python 3 (ipykernel)",
   "language": "python",
   "name": "python3"
  },
  "language_info": {
   "codemirror_mode": {
    "name": "ipython",
    "version": 3
   },
   "file_extension": ".py",
   "mimetype": "text/x-python",
   "name": "python",
   "nbconvert_exporter": "python",
   "pygments_lexer": "ipython3",
   "version": "3.11.5"
  }
 },
 "nbformat": 4,
 "nbformat_minor": 5
}
